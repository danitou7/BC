{
 "cells": [
  {
   "cell_type": "code",
   "execution_count": 3,
   "id": "face55e4-190f-47e4-9b5c-c5a98e07c1e3",
   "metadata": {},
   "outputs": [],
   "source": [
    "import pandas as pd\n",
    "import matplotlib.pyplot as plt\n",
    "import seaborn as sns"
   ]
  },
  {
   "cell_type": "code",
   "execution_count": 67,
   "id": "e0953174-6e26-457e-8776-fdbf52164e6e",
   "metadata": {},
   "outputs": [],
   "source": [
    "data_ukf = pd.read_csv(\"ukf.csv\",sep=\";\")\n",
    "data_pro = pd.read_csv(\"pro.csv\",sep=\";\")"
   ]
  },
  {
   "cell_type": "code",
   "execution_count": 9,
   "id": "ed309058-6bd1-4cba-9d2b-c9a85c4a309f",
   "metadata": {},
   "outputs": [
    {
     "data": {
      "text/html": [
       "<div>\n",
       "<style scoped>\n",
       "    .dataframe tbody tr th:only-of-type {\n",
       "        vertical-align: middle;\n",
       "    }\n",
       "\n",
       "    .dataframe tbody tr th {\n",
       "        vertical-align: top;\n",
       "    }\n",
       "\n",
       "    .dataframe thead th {\n",
       "        text-align: right;\n",
       "    }\n",
       "</style>\n",
       "<table border=\"1\" class=\"dataframe\">\n",
       "  <thead>\n",
       "    <tr style=\"text-align: right;\">\n",
       "      <th></th>\n",
       "      <th>Round</th>\n",
       "      <th>Time death (s)</th>\n",
       "      <th>Killer</th>\n",
       "      <th>Killer side</th>\n",
       "      <th>Killer team</th>\n",
       "      <th>Killer blinded</th>\n",
       "      <th>Victim</th>\n",
       "      <th>Victim side</th>\n",
       "      <th>Victim team</th>\n",
       "      <th>Victim blinded</th>\n",
       "      <th>Weapon</th>\n",
       "      <th>Headshot</th>\n",
       "      <th>Crouching</th>\n",
       "      <th>Trade kill</th>\n",
       "    </tr>\n",
       "  </thead>\n",
       "  <tbody>\n",
       "    <tr>\n",
       "      <th>0</th>\n",
       "      <td>2</td>\n",
       "      <td>23,3</td>\n",
       "      <td>zuluuu</td>\n",
       "      <td>CT</td>\n",
       "      <td>UKF E-Sports</td>\n",
       "      <td>False</td>\n",
       "      <td>Skalw0</td>\n",
       "      <td>T</td>\n",
       "      <td>UCM Tedi Echo</td>\n",
       "      <td>False</td>\n",
       "      <td>USP-S</td>\n",
       "      <td>True</td>\n",
       "      <td>False</td>\n",
       "      <td>False</td>\n",
       "    </tr>\n",
       "    <tr>\n",
       "      <th>1</th>\n",
       "      <td>2</td>\n",
       "      <td>41,25</td>\n",
       "      <td>naboj1</td>\n",
       "      <td>CT</td>\n",
       "      <td>UKF E-Sports</td>\n",
       "      <td>False</td>\n",
       "      <td>s666s</td>\n",
       "      <td>T</td>\n",
       "      <td>UCM Tedi Echo</td>\n",
       "      <td>False</td>\n",
       "      <td>P2000</td>\n",
       "      <td>True</td>\n",
       "      <td>False</td>\n",
       "      <td>False</td>\n",
       "    </tr>\n",
       "    <tr>\n",
       "      <th>2</th>\n",
       "      <td>2</td>\n",
       "      <td>42,27</td>\n",
       "      <td>.Not1ce</td>\n",
       "      <td>T</td>\n",
       "      <td>UCM Tedi Echo</td>\n",
       "      <td>False</td>\n",
       "      <td>naboj1</td>\n",
       "      <td>CT</td>\n",
       "      <td>UKF E-Sports</td>\n",
       "      <td>False</td>\n",
       "      <td>Glock-18</td>\n",
       "      <td>True</td>\n",
       "      <td>False</td>\n",
       "      <td>True</td>\n",
       "    </tr>\n",
       "    <tr>\n",
       "      <th>3</th>\n",
       "      <td>2</td>\n",
       "      <td>42,84</td>\n",
       "      <td>NiT0.</td>\n",
       "      <td>CT</td>\n",
       "      <td>UKF E-Sports</td>\n",
       "      <td>False</td>\n",
       "      <td>.Not1ce</td>\n",
       "      <td>T</td>\n",
       "      <td>UCM Tedi Echo</td>\n",
       "      <td>False</td>\n",
       "      <td>USP-S</td>\n",
       "      <td>True</td>\n",
       "      <td>False</td>\n",
       "      <td>True</td>\n",
       "    </tr>\n",
       "    <tr>\n",
       "      <th>4</th>\n",
       "      <td>2</td>\n",
       "      <td>45,53</td>\n",
       "      <td>NiT0.</td>\n",
       "      <td>CT</td>\n",
       "      <td>UKF E-Sports</td>\n",
       "      <td>False</td>\n",
       "      <td>Kolardo</td>\n",
       "      <td>T</td>\n",
       "      <td>UCM Tedi Echo</td>\n",
       "      <td>False</td>\n",
       "      <td>USP-S</td>\n",
       "      <td>True</td>\n",
       "      <td>False</td>\n",
       "      <td>False</td>\n",
       "    </tr>\n",
       "    <tr>\n",
       "      <th>...</th>\n",
       "      <td>...</td>\n",
       "      <td>...</td>\n",
       "      <td>...</td>\n",
       "      <td>...</td>\n",
       "      <td>...</td>\n",
       "      <td>...</td>\n",
       "      <td>...</td>\n",
       "      <td>...</td>\n",
       "      <td>...</td>\n",
       "      <td>...</td>\n",
       "      <td>...</td>\n",
       "      <td>...</td>\n",
       "      <td>...</td>\n",
       "      <td>...</td>\n",
       "    </tr>\n",
       "    <tr>\n",
       "      <th>180</th>\n",
       "      <td>26</td>\n",
       "      <td>59,11</td>\n",
       "      <td>.Not1ce</td>\n",
       "      <td>CT</td>\n",
       "      <td>UCM Tedi Echo</td>\n",
       "      <td>False</td>\n",
       "      <td>naboj1</td>\n",
       "      <td>T</td>\n",
       "      <td>UKF E-Sports</td>\n",
       "      <td>False</td>\n",
       "      <td>M4A1-S</td>\n",
       "      <td>False</td>\n",
       "      <td>True</td>\n",
       "      <td>False</td>\n",
       "    </tr>\n",
       "    <tr>\n",
       "      <th>181</th>\n",
       "      <td>26</td>\n",
       "      <td>61,16</td>\n",
       "      <td>zuluuu</td>\n",
       "      <td>T</td>\n",
       "      <td>UKF E-Sports</td>\n",
       "      <td>False</td>\n",
       "      <td>.Not1ce</td>\n",
       "      <td>CT</td>\n",
       "      <td>UCM Tedi Echo</td>\n",
       "      <td>False</td>\n",
       "      <td>AK-47</td>\n",
       "      <td>True</td>\n",
       "      <td>False</td>\n",
       "      <td>True</td>\n",
       "    </tr>\n",
       "    <tr>\n",
       "      <th>182</th>\n",
       "      <td>26</td>\n",
       "      <td>85,28</td>\n",
       "      <td>s666s</td>\n",
       "      <td>CT</td>\n",
       "      <td>UCM Tedi Echo</td>\n",
       "      <td>False</td>\n",
       "      <td>zuluuu</td>\n",
       "      <td>T</td>\n",
       "      <td>UKF E-Sports</td>\n",
       "      <td>False</td>\n",
       "      <td>M4A1-S</td>\n",
       "      <td>False</td>\n",
       "      <td>False</td>\n",
       "      <td>False</td>\n",
       "    </tr>\n",
       "    <tr>\n",
       "      <th>183</th>\n",
       "      <td>26</td>\n",
       "      <td>99,47</td>\n",
       "      <td>Newstartik</td>\n",
       "      <td>T</td>\n",
       "      <td>UKF E-Sports</td>\n",
       "      <td>False</td>\n",
       "      <td>s666s</td>\n",
       "      <td>CT</td>\n",
       "      <td>UCM Tedi Echo</td>\n",
       "      <td>False</td>\n",
       "      <td>AK-47</td>\n",
       "      <td>False</td>\n",
       "      <td>False</td>\n",
       "      <td>False</td>\n",
       "    </tr>\n",
       "    <tr>\n",
       "      <th>184</th>\n",
       "      <td>26</td>\n",
       "      <td>106,47</td>\n",
       "      <td>Newstartik</td>\n",
       "      <td>T</td>\n",
       "      <td>UKF E-Sports</td>\n",
       "      <td>False</td>\n",
       "      <td>Addixx</td>\n",
       "      <td>CT</td>\n",
       "      <td>UCM Tedi Echo</td>\n",
       "      <td>False</td>\n",
       "      <td>AK-47</td>\n",
       "      <td>False</td>\n",
       "      <td>False</td>\n",
       "      <td>False</td>\n",
       "    </tr>\n",
       "  </tbody>\n",
       "</table>\n",
       "<p>185 rows × 14 columns</p>\n",
       "</div>"
      ],
      "text/plain": [
       "     Round Time death (s)      Killer Killer side    Killer team  \\\n",
       "0        2           23,3      zuluuu          CT  UKF E-Sports    \n",
       "1        2          41,25      naboj1          CT  UKF E-Sports    \n",
       "2        2          42,27     .Not1ce           T  UCM Tedi Echo   \n",
       "3        2          42,84       NiT0.          CT  UKF E-Sports    \n",
       "4        2          45,53       NiT0.          CT  UKF E-Sports    \n",
       "..     ...            ...         ...         ...            ...   \n",
       "180     26          59,11     .Not1ce          CT  UCM Tedi Echo   \n",
       "181     26          61,16      zuluuu           T  UKF E-Sports    \n",
       "182     26          85,28       s666s          CT  UCM Tedi Echo   \n",
       "183     26          99,47  Newstartik           T  UKF E-Sports    \n",
       "184     26         106,47  Newstartik           T  UKF E-Sports    \n",
       "\n",
       "     Killer blinded   Victim Victim side    Victim team  Victim blinded  \\\n",
       "0             False   Skalw0           T  UCM Tedi Echo           False   \n",
       "1             False    s666s           T  UCM Tedi Echo           False   \n",
       "2             False   naboj1          CT  UKF E-Sports            False   \n",
       "3             False  .Not1ce           T  UCM Tedi Echo           False   \n",
       "4             False  Kolardo           T  UCM Tedi Echo           False   \n",
       "..              ...      ...         ...            ...             ...   \n",
       "180           False   naboj1           T  UKF E-Sports            False   \n",
       "181           False  .Not1ce          CT  UCM Tedi Echo           False   \n",
       "182           False   zuluuu           T  UKF E-Sports            False   \n",
       "183           False    s666s          CT  UCM Tedi Echo           False   \n",
       "184           False   Addixx          CT  UCM Tedi Echo           False   \n",
       "\n",
       "       Weapon  Headshot  Crouching  Trade kill  \n",
       "0       USP-S      True      False       False  \n",
       "1       P2000      True      False       False  \n",
       "2    Glock-18      True      False        True  \n",
       "3       USP-S      True      False        True  \n",
       "4       USP-S      True      False       False  \n",
       "..        ...       ...        ...         ...  \n",
       "180    M4A1-S     False       True       False  \n",
       "181     AK-47      True      False        True  \n",
       "182    M4A1-S     False      False       False  \n",
       "183     AK-47     False      False       False  \n",
       "184     AK-47     False      False       False  \n",
       "\n",
       "[185 rows x 14 columns]"
      ]
     },
     "execution_count": 9,
     "metadata": {},
     "output_type": "execute_result"
    }
   ],
   "source": [
    "data_ukf"
   ]
  },
  {
   "cell_type": "code",
   "execution_count": 13,
   "id": "2d8c632b-1668-42cb-80bc-0f6992c520d7",
   "metadata": {},
   "outputs": [
    {
     "data": {
      "text/html": [
       "<div>\n",
       "<style scoped>\n",
       "    .dataframe tbody tr th:only-of-type {\n",
       "        vertical-align: middle;\n",
       "    }\n",
       "\n",
       "    .dataframe tbody tr th {\n",
       "        vertical-align: top;\n",
       "    }\n",
       "\n",
       "    .dataframe thead th {\n",
       "        text-align: right;\n",
       "    }\n",
       "</style>\n",
       "<table border=\"1\" class=\"dataframe\">\n",
       "  <thead>\n",
       "    <tr style=\"text-align: right;\">\n",
       "      <th></th>\n",
       "      <th>Round</th>\n",
       "      <th>Time death (s)</th>\n",
       "      <th>Killer</th>\n",
       "      <th>Killer side</th>\n",
       "      <th>Killer team</th>\n",
       "      <th>Killer bot</th>\n",
       "      <th>Killer blinded</th>\n",
       "      <th>Victim</th>\n",
       "      <th>Victim side</th>\n",
       "      <th>Victim team</th>\n",
       "      <th>Victim blinded</th>\n",
       "      <th>Weapon</th>\n",
       "      <th>Headshot</th>\n",
       "      <th>Crouching</th>\n",
       "      <th>Trade kill</th>\n",
       "    </tr>\n",
       "  </thead>\n",
       "  <tbody>\n",
       "    <tr>\n",
       "      <th>0</th>\n",
       "      <td>1</td>\n",
       "      <td>25,69</td>\n",
       "      <td>ropz</td>\n",
       "      <td>T</td>\n",
       "      <td>FaZe Clan</td>\n",
       "      <td>False</td>\n",
       "      <td>False</td>\n",
       "      <td>huNter</td>\n",
       "      <td>CT</td>\n",
       "      <td>G2 Esports</td>\n",
       "      <td>False</td>\n",
       "      <td>Glock-18</td>\n",
       "      <td>True</td>\n",
       "      <td>False</td>\n",
       "      <td>False</td>\n",
       "    </tr>\n",
       "    <tr>\n",
       "      <th>1</th>\n",
       "      <td>1</td>\n",
       "      <td>35,39</td>\n",
       "      <td>rain</td>\n",
       "      <td>T</td>\n",
       "      <td>FaZe Clan</td>\n",
       "      <td>False</td>\n",
       "      <td>False</td>\n",
       "      <td>jks</td>\n",
       "      <td>CT</td>\n",
       "      <td>G2 Esports</td>\n",
       "      <td>False</td>\n",
       "      <td>Glock-18</td>\n",
       "      <td>True</td>\n",
       "      <td>True</td>\n",
       "      <td>False</td>\n",
       "    </tr>\n",
       "    <tr>\n",
       "      <th>2</th>\n",
       "      <td>1</td>\n",
       "      <td>47,06</td>\n",
       "      <td>rain</td>\n",
       "      <td>T</td>\n",
       "      <td>FaZe Clan</td>\n",
       "      <td>False</td>\n",
       "      <td>True</td>\n",
       "      <td>m0NESY</td>\n",
       "      <td>CT</td>\n",
       "      <td>G2 Esports</td>\n",
       "      <td>True</td>\n",
       "      <td>Glock-18</td>\n",
       "      <td>True</td>\n",
       "      <td>False</td>\n",
       "      <td>False</td>\n",
       "    </tr>\n",
       "    <tr>\n",
       "      <th>3</th>\n",
       "      <td>1</td>\n",
       "      <td>54,8</td>\n",
       "      <td>ropz</td>\n",
       "      <td>T</td>\n",
       "      <td>FaZe Clan</td>\n",
       "      <td>False</td>\n",
       "      <td>False</td>\n",
       "      <td>HooXi</td>\n",
       "      <td>CT</td>\n",
       "      <td>G2 Esports</td>\n",
       "      <td>False</td>\n",
       "      <td>Glock-18</td>\n",
       "      <td>True</td>\n",
       "      <td>False</td>\n",
       "      <td>False</td>\n",
       "    </tr>\n",
       "    <tr>\n",
       "      <th>4</th>\n",
       "      <td>1</td>\n",
       "      <td>60,43</td>\n",
       "      <td>NiKo</td>\n",
       "      <td>CT</td>\n",
       "      <td>G2 Esports</td>\n",
       "      <td>False</td>\n",
       "      <td>False</td>\n",
       "      <td>broky</td>\n",
       "      <td>T</td>\n",
       "      <td>FaZe Clan</td>\n",
       "      <td>False</td>\n",
       "      <td>USP-S</td>\n",
       "      <td>False</td>\n",
       "      <td>False</td>\n",
       "      <td>False</td>\n",
       "    </tr>\n",
       "    <tr>\n",
       "      <th>...</th>\n",
       "      <td>...</td>\n",
       "      <td>...</td>\n",
       "      <td>...</td>\n",
       "      <td>...</td>\n",
       "      <td>...</td>\n",
       "      <td>...</td>\n",
       "      <td>...</td>\n",
       "      <td>...</td>\n",
       "      <td>...</td>\n",
       "      <td>...</td>\n",
       "      <td>...</td>\n",
       "      <td>...</td>\n",
       "      <td>...</td>\n",
       "      <td>...</td>\n",
       "      <td>...</td>\n",
       "    </tr>\n",
       "    <tr>\n",
       "      <th>240</th>\n",
       "      <td>36</td>\n",
       "      <td>70,12</td>\n",
       "      <td>broky</td>\n",
       "      <td>T</td>\n",
       "      <td>FaZe Clan</td>\n",
       "      <td>False</td>\n",
       "      <td>False</td>\n",
       "      <td>NiKo</td>\n",
       "      <td>CT</td>\n",
       "      <td>G2 Esports</td>\n",
       "      <td>False</td>\n",
       "      <td>AWP</td>\n",
       "      <td>False</td>\n",
       "      <td>True</td>\n",
       "      <td>False</td>\n",
       "    </tr>\n",
       "    <tr>\n",
       "      <th>241</th>\n",
       "      <td>36</td>\n",
       "      <td>87,45</td>\n",
       "      <td>ropz</td>\n",
       "      <td>T</td>\n",
       "      <td>FaZe Clan</td>\n",
       "      <td>False</td>\n",
       "      <td>False</td>\n",
       "      <td>HooXi</td>\n",
       "      <td>CT</td>\n",
       "      <td>G2 Esports</td>\n",
       "      <td>False</td>\n",
       "      <td>AK-47</td>\n",
       "      <td>True</td>\n",
       "      <td>False</td>\n",
       "      <td>False</td>\n",
       "    </tr>\n",
       "    <tr>\n",
       "      <th>242</th>\n",
       "      <td>36</td>\n",
       "      <td>100,69</td>\n",
       "      <td>broky</td>\n",
       "      <td>T</td>\n",
       "      <td>FaZe Clan</td>\n",
       "      <td>False</td>\n",
       "      <td>False</td>\n",
       "      <td>huNter</td>\n",
       "      <td>CT</td>\n",
       "      <td>G2 Esports</td>\n",
       "      <td>False</td>\n",
       "      <td>AWP</td>\n",
       "      <td>False</td>\n",
       "      <td>False</td>\n",
       "      <td>False</td>\n",
       "    </tr>\n",
       "    <tr>\n",
       "      <th>243</th>\n",
       "      <td>36</td>\n",
       "      <td>108,06</td>\n",
       "      <td>jks</td>\n",
       "      <td>CT</td>\n",
       "      <td>G2 Esports</td>\n",
       "      <td>False</td>\n",
       "      <td>False</td>\n",
       "      <td>Twistzz</td>\n",
       "      <td>T</td>\n",
       "      <td>FaZe Clan</td>\n",
       "      <td>False</td>\n",
       "      <td>M4A4</td>\n",
       "      <td>False</td>\n",
       "      <td>False</td>\n",
       "      <td>False</td>\n",
       "    </tr>\n",
       "    <tr>\n",
       "      <th>244</th>\n",
       "      <td>36</td>\n",
       "      <td>108,71</td>\n",
       "      <td>broky</td>\n",
       "      <td>T</td>\n",
       "      <td>FaZe Clan</td>\n",
       "      <td>False</td>\n",
       "      <td>False</td>\n",
       "      <td>jks</td>\n",
       "      <td>CT</td>\n",
       "      <td>G2 Esports</td>\n",
       "      <td>False</td>\n",
       "      <td>AWP</td>\n",
       "      <td>False</td>\n",
       "      <td>False</td>\n",
       "      <td>True</td>\n",
       "    </tr>\n",
       "  </tbody>\n",
       "</table>\n",
       "<p>245 rows × 15 columns</p>\n",
       "</div>"
      ],
      "text/plain": [
       "     Round Time death (s) Killer Killer side Killer team  Killer bot  \\\n",
       "0        1          25,69   ropz           T   FaZe Clan       False   \n",
       "1        1          35,39   rain           T   FaZe Clan       False   \n",
       "2        1          47,06   rain           T   FaZe Clan       False   \n",
       "3        1           54,8   ropz           T   FaZe Clan       False   \n",
       "4        1          60,43   NiKo          CT  G2 Esports       False   \n",
       "..     ...            ...    ...         ...         ...         ...   \n",
       "240     36          70,12  broky           T   FaZe Clan       False   \n",
       "241     36          87,45   ropz           T   FaZe Clan       False   \n",
       "242     36         100,69  broky           T   FaZe Clan       False   \n",
       "243     36         108,06    jks          CT  G2 Esports       False   \n",
       "244     36         108,71  broky           T   FaZe Clan       False   \n",
       "\n",
       "     Killer blinded   Victim Victim side Victim team  Victim blinded  \\\n",
       "0             False   huNter          CT  G2 Esports           False   \n",
       "1             False      jks          CT  G2 Esports           False   \n",
       "2              True   m0NESY          CT  G2 Esports            True   \n",
       "3             False    HooXi          CT  G2 Esports           False   \n",
       "4             False    broky           T   FaZe Clan           False   \n",
       "..              ...      ...         ...         ...             ...   \n",
       "240           False     NiKo          CT  G2 Esports           False   \n",
       "241           False    HooXi          CT  G2 Esports           False   \n",
       "242           False   huNter          CT  G2 Esports           False   \n",
       "243           False  Twistzz           T   FaZe Clan           False   \n",
       "244           False      jks          CT  G2 Esports           False   \n",
       "\n",
       "       Weapon  Headshot  Crouching  Trade kill  \n",
       "0    Glock-18      True      False       False  \n",
       "1    Glock-18      True       True       False  \n",
       "2    Glock-18      True      False       False  \n",
       "3    Glock-18      True      False       False  \n",
       "4       USP-S     False      False       False  \n",
       "..        ...       ...        ...         ...  \n",
       "240       AWP     False       True       False  \n",
       "241     AK-47      True      False       False  \n",
       "242       AWP     False      False       False  \n",
       "243      M4A4     False      False       False  \n",
       "244       AWP     False      False        True  \n",
       "\n",
       "[245 rows x 15 columns]"
      ]
     },
     "execution_count": 13,
     "metadata": {},
     "output_type": "execute_result"
    }
   ],
   "source": [
    "data_pro"
   ]
  },
  {
   "cell_type": "code",
   "execution_count": 57,
   "id": "adc86b37-49b2-43f9-b804-401adeb6071c",
   "metadata": {},
   "outputs": [
    {
     "data": {
      "text/plain": [
       "Killer\n",
       "zuluuu        38\n",
       "Newstartik    18\n",
       "naboj1        15\n",
       "NiT0.         15\n",
       "NepriateL     14\n",
       "Name: count, dtype: int64"
      ]
     },
     "execution_count": 57,
     "metadata": {},
     "output_type": "execute_result"
    },
    {
     "data": {
      "image/png": "[encoded data removed]",
      "text/plain": [
       "<Figure size 640x480 with 1 Axes>"
      ]
     },
     "metadata": {},
     "output_type": "display_data"
    }
   ],
   "source": [
    "podmienka = data_ukf[\"Killer team\"] == \"UKF E-Sports \"\n",
    "graf1 = sns.countplot(x=\"Killer\",data = data_ukf[podmienka])\n",
    "graf1.set_xlabel(\"Hráč\",fontsize = 15)\n",
    "graf1.set_ylabel(\"Počet zabití\",fontsize = 15)\n",
    "pocet = data_ukf[\"Killer\"][podmienka].value_counts()\n",
    "pocet"
   ]
  },
  {
   "cell_type": "code",
   "execution_count": 58,
   "id": "affa92d2-8bea-4f8b-8461-2c0c9b5dcbc6",
   "metadata": {},
   "outputs": [
    {
     "data": {
      "text/plain": [
       "Killer\n",
       "Addixx     28\n",
       "Skalw0     19\n",
       "Kolardo    17\n",
       ".Not1ce    11\n",
       "s666s       9\n",
       "Name: count, dtype: int64"
      ]
     },
     "execution_count": 58,
     "metadata": {},
     "output_type": "execute_result"
    }
   ],
   "source": [
    "podmienka = data_ukf[\"Killer team\"] == \"UCM Tedi Echo\"\n",
    "pocet = data_ukf[\"Killer\"][podmienka].value_counts()\n",
    "pocet"
   ]
  },
  {
   "cell_type": "code",
   "execution_count": 11,
   "id": "5997acf1-6726-4832-8a76-9e63571861ba",
   "metadata": {},
   "outputs": [
    {
     "data": {
      "text/plain": [
       "Killer\n",
       "ropz        33\n",
       "broky       29\n",
       "Twistzz     21\n",
       "rain        17\n",
       "karrigan    17\n",
       "Name: count, dtype: int64"
      ]
     },
     "execution_count": 11,
     "metadata": {},
     "output_type": "execute_result"
    }
   ],
   "source": [
    "podmienka = data_pro[\"Killer team\"] == \"FaZe Clan\"\n",
    "pocet = data_pro[\"Killer\"][podmienka].value_counts()\n",
    "pocet"
   ]
  },
  {
   "cell_type": "code",
   "execution_count": 62,
   "id": "10f82deb-1529-4396-a694-c8a9174b3690",
   "metadata": {},
   "outputs": [
    {
     "data": {
      "text/plain": [
       "Killer\n",
       "NiKo      32\n",
       "jks       27\n",
       "m0NESY    26\n",
       "huNter    24\n",
       "HooXi     18\n",
       "Name: count, dtype: int64"
      ]
     },
     "execution_count": 62,
     "metadata": {},
     "output_type": "execute_result"
    }
   ],
   "source": [
    "podmienka = data_pro[\"Killer team\"] == \"G2 Esports\"\n",
    "pocet = data_pro[\"Killer\"][podmienka].value_counts()\n",
    "pocet"
   ]
  },
  {
   "cell_type": "code",
   "execution_count": 77,
   "id": "ae662b6b-aefe-4068-a05e-c8724b06cee1",
   "metadata": {},
   "outputs": [
    {
     "data": {
      "text/plain": [
       "Text(0, 0.5, '% Headshotu')"
      ]
     },
     "execution_count": 77,
     "metadata": {},
     "output_type": "execute_result"
    },
    {
     "data": {
      "image/png": "[encoded data removed]",
      "text/plain": [
       "<Figure size 640x480 with 1 Axes>"
      ]
     },
     "metadata": {},
     "output_type": "display_data"
    }
   ],
   "source": []
  },
  {
   "cell_type": "code",
   "execution_count": 28,
   "id": "39a0d01c-99bc-4f6b-8ad9-feb979e412e2",
   "metadata": {},
   "outputs": [
    {
     "data": {
      "text/plain": [
       "(0.0, 10.0)"
      ]
     },
     "execution_count": 28,
     "metadata": {},
     "output_type": "execute_result"
    },
    {
     "data": {
      "image/png": "[encoded data removed]",
      "text/plain": [
       "<Figure size 640x480 with 1 Axes>"
      ]
     },
     "metadata": {},
     "output_type": "display_data"
    }
   ],
   "source": [
    "podmienka = data_ukf[\"Victim blinded\"] == True\n",
    "graf = sns.countplot(x = \"Killer\",data = data_ukf[podmienka])\n",
    "graf.set_xlabel(\"Hráč\",fontsize = 15)\n",
    "graf.set_ylabel(\"Počet\",fontsize = 15)\n",
    "plt.ylim(0,10)"
   ]
  },
  {
   "cell_type": "code",
   "execution_count": 102,
   "id": "15caf3d7-d42b-4462-9a05-811691d2c162",
   "metadata": {},
   "outputs": [
    {
     "data": {
      "text/plain": [
       "(0.0, 10.0)"
      ]
     },
     "execution_count": 102,
     "metadata": {},
     "output_type": "execute_result"
    },
    {
     "data": {
      "image/png": "[encoded data removed]",
      "text/plain": [
       "<Figure size 640x480 with 1 Axes>"
      ]
     },
     "metadata": {},
     "output_type": "display_data"
    }
   ],
   "source": [
    "podmienka = data_pro[\"Victim_blinded\"] == True\n",
    "graf = sns.countplot(x = \"Killer\",data = data_pro[podmienka])\n",
    "graf.set_xlabel(\"Hráč\",fontsize = 15)\n",
    "graf.set_ylabel(\"Počet\",fontsize = 15)\n",
    "plt.ylim(0,10)"
   ]
  },
  {
   "cell_type": "code",
   "execution_count": 113,
   "id": "11610627-085c-4a3d-b554-06425afae9f0",
   "metadata": {},
   "outputs": [
    {
     "data": {
      "text/plain": [
       "Text(0, 0.5, 'Headshot')"
      ]
     },
     "execution_count": 113,
     "metadata": {},
     "output_type": "execute_result"
    },
    {
     "data": {
      "image/png": "[encoded data removed]",
      "text/plain": [
       "<Figure size 640x480 with 1 Axes>"
      ]
     },
     "metadata": {},
     "output_type": "display_data"
    }
   ],
   "source": [
    "podmienka = data_ukf[\"Headshot\"] == True\n",
    "graf = sns.countplot(data_ukf[podmienka],x=\"Killer\")\n",
    "graf.set_xticklabels(graf.get_xticklabels(),rotation = 45)\n",
    "graf.set_xlabel(\"Hráč\",fontsize = 15)\n",
    "graf.set_ylabel(\"Headshot\",fontsize = 15)"
   ]
  },
  {
   "cell_type": "code",
   "execution_count": 122,
   "id": "d88e0aae-2068-4dfc-9f18-c263e65dd726",
   "metadata": {},
   "outputs": [
    {
     "data": {
      "text/plain": [
       "Text(0, 0.5, 'Headshot')"
      ]
     },
     "execution_count": 122,
     "metadata": {},
     "output_type": "execute_result"
    },
    {
     "data": {
      "image/png": "[encoded data removed]",
      "text/plain": [
       "<Figure size 640x480 with 1 Axes>"
      ]
     },
     "metadata": {},
     "output_type": "display_data"
    }
   ],
   "source": [
    "podmienka = data_pro[\"Headshot\"] == True\n",
    "graf = sns.countplot(data_pro[podmienka],x=\"Killer\")\n",
    "graf.set_xticklabels(graf.get_xticklabels(),rotation = 45)\n",
    "graf.set_xlabel(\"Hráč\",fontsize = 15)\n",
    "graf.set_ylabel(\"Headshot\",fontsize = 15)"
   ]
  },
  {
   "cell_type": "code",
   "execution_count": 127,
   "id": "0c7493fb-9c92-4fa0-aa45-bf401e841bf9",
   "metadata": {},
   "outputs": [
    {
     "name": "stdout",
     "output_type": "stream",
     "text": [
      "<class 'pandas.core.frame.DataFrame'>\n",
      "RangeIndex: 184 entries, 0 to 183\n",
      "Data columns (total 14 columns):\n",
      " #   Column          Non-Null Count  Dtype \n",
      "---  ------          --------------  ----- \n",
      " 0   Round           184 non-null    int64 \n",
      " 1   Time death (s)  184 non-null    object\n",
      " 2   Killer          184 non-null    object\n",
      " 3   Killer side     184 non-null    object\n",
      " 4   Killer team     184 non-null    object\n",
      " 5   Killer blinded  184 non-null    bool  \n",
      " 6   Victim          184 non-null    object\n",
      " 7   Victim side     184 non-null    object\n",
      " 8   Victim team     184 non-null    object\n",
      " 9   Victim blinded  184 non-null    bool  \n",
      " 10  Weapon          184 non-null    object\n",
      " 11  Headshot        184 non-null    bool  \n",
      " 12  Crouching       184 non-null    bool  \n",
      " 13  Trade kill      184 non-null    bool  \n",
      "dtypes: bool(5), int64(1), object(8)\n",
      "memory usage: 14.0+ KB\n"
     ]
    }
   ],
   "source": [
    "data_ukf.info()"
   ]
  },
  {
   "cell_type": "code",
   "execution_count": 128,
   "id": "fee04aca-6859-4a8b-87ca-3ec6440305c0",
   "metadata": {},
   "outputs": [
    {
     "name": "stdout",
     "output_type": "stream",
     "text": [
      "<class 'pandas.core.frame.DataFrame'>\n",
      "RangeIndex: 244 entries, 0 to 243\n",
      "Data columns (total 15 columns):\n",
      " #   Column          Non-Null Count  Dtype \n",
      "---  ------          --------------  ----- \n",
      " 0   Round           244 non-null    int64 \n",
      " 1   Time death (s)  244 non-null    object\n",
      " 2   Killer          244 non-null    object\n",
      " 3   Killer side     244 non-null    object\n",
      " 4   Killer team     244 non-null    object\n",
      " 5   Killer bot      244 non-null    bool  \n",
      " 6   Killer blinded  244 non-null    bool  \n",
      " 7   Victim          244 non-null    object\n",
      " 8   Victim side     244 non-null    object\n",
      " 9   Victim team     244 non-null    object\n",
      " 10  Victim blinded  244 non-null    bool  \n",
      " 11  Weapon          244 non-null    object\n",
      " 12  Headshot        244 non-null    bool  \n",
      " 13  Crouching       244 non-null    bool  \n",
      " 14  Trade kill      244 non-null    bool  \n",
      "dtypes: bool(6), int64(1), object(8)\n",
      "memory usage: 18.7+ KB\n"
     ]
    }
   ],
   "source": [
    "data_pro.info()"
   ]
  },
  {
   "cell_type": "code",
   "execution_count": 129,
   "id": "fe022d6e-744f-4671-b6ed-91ac39d27dd5",
   "metadata": {},
   "outputs": [
    {
     "data": {
      "text/plain": [
       "Text(0, 0.5, 'Počet zabití')"
      ]
     },
     "execution_count": 129,
     "metadata": {},
     "output_type": "execute_result"
    },
    {
     "data": {
      "image/png": "[encoded data removed]",
      "text/plain": [
       "<Figure size 640x480 with 1 Axes>"
      ]
     },
     "metadata": {},
     "output_type": "display_data"
    }
   ],
   "source": [
    "podmienka = data_ukf[\"Killer team\"] == \"UKF E-Sports \"\n",
    "graf1 = sns.countplot(x=\"Killer\",data = data_ukf[podmienka])\n",
    "graf1.set_xlabel(\"Hráč\",fontsize = 15)\n",
    "graf1.set_ylabel(\"Počet zabití\",fontsize = 15)"
   ]
  },
  {
   "cell_type": "code",
   "execution_count": 9,
   "id": "fbdad08d-0091-4921-923f-775e3acc4496",
   "metadata": {},
   "outputs": [
    {
     "data": {
      "text/plain": [
       "Killer\n",
       "zuluuu        38\n",
       "Newstartik    18\n",
       "naboj1        15\n",
       "NiT0.         15\n",
       "NepriateL     14\n",
       "Name: count, dtype: int64"
      ]
     },
     "execution_count": 9,
     "metadata": {},
     "output_type": "execute_result"
    }
   ],
   "source": [
    "podmienka = data_ukf[\"Killer team\"] == \"UKF E-Sports \"\n",
    "pocet = data_ukf[\"Killer\"][podmienka].value_counts()\n",
    "pocet"
   ]
  },
  {
   "cell_type": "code",
   "execution_count": 10,
   "id": "8df3e8fa-0b5a-470d-8821-1bbbb42fffc4",
   "metadata": {},
   "outputs": [
    {
     "data": {
      "text/plain": [
       "Killer\n",
       "Addixx     28\n",
       "Skalw0     19\n",
       "Kolardo    17\n",
       ".Not1ce    11\n",
       "s666s       9\n",
       "Name: count, dtype: int64"
      ]
     },
     "execution_count": 10,
     "metadata": {},
     "output_type": "execute_result"
    }
   ],
   "source": [
    "podmienka = data_ukf[\"Killer team\"] == \"UCM Tedi Echo\"\n",
    "pocet = data_ukf[\"Killer\"][podmienka].value_counts()\n",
    "pocet"
   ]
  },
  {
   "cell_type": "code",
   "execution_count": 103,
   "id": "b8494db8-c186-4c07-9a83-34b6b6e022e2",
   "metadata": {},
   "outputs": [
    {
     "name": "stdout",
     "output_type": "stream",
     "text": [
      "9 39\n"
     ]
    }
   ],
   "source": [
    "ukf = data_ukf[\"Victim_blinded\"].sum()\n",
    "pro = data_pro[\"Victim_blinded\"].sum()\n",
    "print(ukf, pro)"
   ]
  },
  {
   "cell_type": "code",
   "execution_count": 114,
   "id": "2dfd60ca-57e9-4a88-934f-f0a7b0705a2e",
   "metadata": {},
   "outputs": [
    {
     "data": {
      "text/plain": [
       "<BarContainer object of 2 artists>"
      ]
     },
     "execution_count": 114,
     "metadata": {},
     "output_type": "execute_result"
    },
    {
     "data": {
      "image/png": "[encoded data removed]",
      "text/plain": [
       "<Figure size 640x480 with 1 Axes>"
      ]
     },
     "metadata": {},
     "output_type": "display_data"
    }
   ],
   "source": [
    "data_n = {\"Univerzitný\" : 9, \"Profesionálny\" : 39}\n",
    "x = list(data_n.keys())\n",
    "y = list(data_n.values())\n",
    "plt.xlabel(\"Zápas\")\n",
    "plt.ylabel(\"Počet zabití\")\n",
    "plt.bar(x,y,width=0.6)\n"
   ]
  },
  {
   "cell_type": "code",
   "execution_count": null,
   "id": "04db71da-0ccc-47ea-9350-b770f854dfb3",
   "metadata": {},
   "outputs": [],
   "source": []
  }
 ],
 "metadata": {
  "kernelspec": {
   "display_name": "Python 3 (ipykernel)",
   "language": "python",
   "name": "python3"
  },
  "language_info": {
   "codemirror_mode": {
    "name": "ipython",
    "version": 3
   },
   "file_extension": ".py",
   "mimetype": "text/x-python",
   "name": "python",
   "nbconvert_exporter": "python",
   "pygments_lexer": "ipython3",
   "version": "3.11.7"
  }
 },
 "nbformat": 4,
 "nbformat_minor": 5
}
